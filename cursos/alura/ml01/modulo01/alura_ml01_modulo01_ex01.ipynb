{
  "nbformat": 4,
  "nbformat_minor": 0,
  "metadata": {
    "colab": {
      "name": "alura_ml01_modulo01_ex01.ipynb",
      "provenance": [],
      "collapsed_sections": []
    },
    "kernelspec": {
      "name": "python3",
      "display_name": "Python 3"
    },
    "language_info": {
      "name": "python"
    }
  },
  "cells": [
    {
      "cell_type": "code",
      "execution_count": 1,
      "metadata": {
        "id": "5ArjOLDvDnql"
      },
      "outputs": [],
      "source": [
        "# pelo curto? 0 => não; 1 => sim\n",
        "# pernas curtas? 0 => não; 1 => sim\n",
        "# late? 0 => não; 1 => sim\n",
        "\n",
        "porco_1 = [1, 1, 0]\n",
        "porco_2 = [0, 1, 0]\n",
        "porco_3 = [1, 1, 1]\n",
        "\n",
        "cachorro_1 = [1, 0, 1]\n",
        "cachorro_2 = [0, 1, 1]\n",
        "cachorro_3 = [1, 1, 1]\n",
        "\n",
        "treino_X = [porco_1, porco_2, porco_3, cachorro_1, cachorro_2, cachorro_3]\n",
        "treino_y = [0, 0, 0, 1, 1, 1] # classes: 0 => porco; 1 => cachorro"
      ]
    },
    {
      "cell_type": "code",
      "source": [
        "from sklearn.svm import LinearSVC\n",
        "model = LinearSVC()\n",
        "model.fit(X=treino_X, y=treino_y)"
      ],
      "metadata": {
        "colab": {
          "base_uri": "https://localhost:8080/"
        },
        "id": "0UxIoAD5EmC8",
        "outputId": "0a068859-e547-42d8-da7e-f891d83b9f49"
      },
      "execution_count": 2,
      "outputs": [
        {
          "output_type": "execute_result",
          "data": {
            "text/plain": [
              "LinearSVC()"
            ]
          },
          "metadata": {},
          "execution_count": 2
        }
      ]
    },
    {
      "cell_type": "code",
      "source": [
        "misterio_1 = [1, 1, 1] # cachorro\n",
        "misterio_2 = [1, 1, 0] # porco\n",
        "misterio_3 = [0, 0, 1] # cachorro\n",
        "\n",
        "teste_X = [misterio_1, misterio_2, misterio_3]\n",
        "teste_y = [1, 0, 1]"
      ],
      "metadata": {
        "id": "wRY57HcMFCZb"
      },
      "execution_count": 5,
      "outputs": []
    },
    {
      "cell_type": "code",
      "source": [
        "predicoes = model.predict(teste_X)"
      ],
      "metadata": {
        "id": "xGyOpLjlFiEV"
      },
      "execution_count": 6,
      "outputs": []
    },
    {
      "cell_type": "code",
      "source": [
        "from sklearn.metrics import accuracy_score\n",
        "acuracia = accuracy_score(teste_y, predicoes)\n",
        "print(f'Acurácia: {acuracia * 100:.2f}%')"
      ],
      "metadata": {
        "colab": {
          "base_uri": "https://localhost:8080/"
        },
        "id": "apQzeU8EFnE7",
        "outputId": "9c23098d-b070-4026-aad1-af21726f07e9"
      },
      "execution_count": 8,
      "outputs": [
        {
          "output_type": "stream",
          "name": "stdout",
          "text": [
            "Acurácia: 100.00%\n"
          ]
        }
      ]
    },
    {
      "cell_type": "code",
      "source": [
        ""
      ],
      "metadata": {
        "id": "VwFm1LzvF8gz"
      },
      "execution_count": null,
      "outputs": []
    }
  ]
}